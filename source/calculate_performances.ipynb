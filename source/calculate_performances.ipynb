{
 "cells": [
  {
   "cell_type": "code",
   "execution_count": null,
   "metadata": {},
   "outputs": [],
   "source": [
    "import os\n",
    "from tqdm import tqdm\n",
    "import numpy as np\n",
    "import SimpleITK as sitk\n",
    "import json\n",
    "import torch\n",
    "from torchmetrics.image.fid import FrechetInceptionDistance\n"
   ]
  },
  {
   "cell_type": "code",
   "execution_count": null,
   "metadata": {},
   "outputs": [],
   "source": [
    "json_file = '/inye/dataset/ADNI3_test_metadata2.jsonl'\n",
    "dataset = []\n",
    "with open(json_file, \"r\") as f:\n",
    "    for line in f:\n",
    "        dataset.append(json.loads(line))\n",
    "\n",
    "img_root = '/inye/dataset/T1_2D_slice_512/'\n",
    "target_names = []\n",
    "pre_names = []\n",
    "for data in dataset:\n",
    "    target_names.append(data['img'])\n",
    "    pre_names.append(data['preImg'])"
   ]
  },
  {
   "attachments": {},
   "cell_type": "markdown",
   "metadata": {},
   "source": [
    "# FID"
   ]
  },
  {
   "cell_type": "code",
   "execution_count": null,
   "metadata": {},
   "outputs": [],
   "source": [
    "def load_images_to_tensor(img_list, folder_path):\n",
    "    # 초기 텐서 선언 (빈 텐서 또는 예상되는 최종 텐서의 크기에 맞는 텐서)\n",
    "    tensors = torch.empty(0) # 여기서는 예제로 빈 텐서를 사용\n",
    "\n",
    "    for filename in tqdm(img_list):\n",
    "\n",
    "        file_path = os.path.join(folder_path, filename+\".nii.gz\")\n",
    "        sitk_image = sitk.ReadImage(file_path)\n",
    "        np_image = sitk.GetArrayFromImage(sitk_image)\n",
    "        np_image = np_image[np.newaxis, :, :]\n",
    "        np_image = np.concatenate((np_image, np_image, np_image), axis=0) # 3채널로 변환\n",
    "        np_image_scaled = np.clip(np_image * 255.0, 0, 255).astype(np.uint8)\n",
    "        # NumPy 배열을 PyTorch Tensor로 변환하고 새 차원 추가\n",
    "        tensor = torch.from_numpy(np_image_scaled).unsqueeze(0) # 0번째 차원 추가\n",
    "        \n",
    "        # 0번째 차원을 기준으로 텐서 누적\n",
    "        tensors = torch.cat((tensors, tensor), dim=0) if tensors.size(0) else tensor\n",
    "    \n",
    "    return tensors"
   ]
  },
  {
   "cell_type": "code",
   "execution_count": null,
   "metadata": {},
   "outputs": [],
   "source": [
    "target_tensors = load_images_to_tensor(target_names, img_root)\n",
    "pre_tensors = load_images_to_tensor(pre_names, img_root)"
   ]
  },
  {
   "cell_type": "code",
   "execution_count": null,
   "metadata": {},
   "outputs": [],
   "source": [
    "target_tensors.shape, pre_tensors.shape"
   ]
  },
  {
   "cell_type": "code",
   "execution_count": null,
   "metadata": {},
   "outputs": [],
   "source": [
    "fid = FrechetInceptionDistance(feature=64)\n",
    "fid.update(target_tensors, real=True)\n",
    "fid.update(pre_tensors, real=False)\n",
    "fid.compute()"
   ]
  },
  {
   "cell_type": "code",
   "execution_count": null,
   "metadata": {},
   "outputs": [],
   "source": [
    "fid = FrechetInceptionDistance(feature=192)\n",
    "fid.update(target_tensors, real=True)\n",
    "fid.update(pre_tensors, real=False)\n",
    "fid.compute()"
   ]
  },
  {
   "cell_type": "code",
   "execution_count": null,
   "metadata": {},
   "outputs": [],
   "source": [
    "fid = FrechetInceptionDistance(feature=768)\n",
    "fid.update(target_tensors, real=True)\n",
    "fid.update(pre_tensors, real=False)\n",
    "fid.compute()"
   ]
  },
  {
   "cell_type": "code",
   "execution_count": null,
   "metadata": {},
   "outputs": [],
   "source": [
    "result_path = \"/inye/Inference/seed-42_strength-0.4_guidance-2.0_step-100/\""
   ]
  },
  {
   "cell_type": "code",
   "execution_count": null,
   "metadata": {},
   "outputs": [],
   "source": [
    "result_tensors = load_images_to_tensor(target_names, result_path)"
   ]
  },
  {
   "cell_type": "code",
   "execution_count": null,
   "metadata": {},
   "outputs": [],
   "source": [
    "result_tensors.shape"
   ]
  },
  {
   "cell_type": "code",
   "execution_count": null,
   "metadata": {},
   "outputs": [],
   "source": [
    "fid = FrechetInceptionDistance(feature=64)\n",
    "fid.update(target_tensors, real=True)\n",
    "fid.update(result_tensors, real=False)\n",
    "fid.compute()"
   ]
  },
  {
   "cell_type": "code",
   "execution_count": null,
   "metadata": {},
   "outputs": [],
   "source": [
    "fid = FrechetInceptionDistance(feature=192)\n",
    "fid.update(target_tensors, real=True)\n",
    "fid.update(result_tensors, real=False)\n",
    "fid.compute()"
   ]
  },
  {
   "cell_type": "code",
   "execution_count": null,
   "metadata": {},
   "outputs": [],
   "source": [
    "fid = FrechetInceptionDistance(feature=768)\n",
    "fid.update(target_tensors, real=True)\n",
    "fid.update(result_tensors, real=False)\n",
    "fid.compute()"
   ]
  },
  {
   "attachments": {},
   "cell_type": "markdown",
   "metadata": {},
   "source": [
    "# PSNR"
   ]
  },
  {
   "cell_type": "code",
   "execution_count": null,
   "metadata": {},
   "outputs": [],
   "source": [
    "from torchmetrics.image import PeakSignalNoiseRatio"
   ]
  },
  {
   "cell_type": "code",
   "execution_count": null,
   "metadata": {},
   "outputs": [],
   "source": [
    "def load_images_to_tensor(img_list, folder_path):\n",
    "    # 초기 텐서 선언 (빈 텐서 또는 예상되는 최종 텐서의 크기에 맞는 텐서)\n",
    "    tensors = torch.empty(0) # 여기서는 예제로 빈 텐서를 사용\n",
    "\n",
    "    for filename in tqdm(img_list):\n",
    "        \n",
    "        file_path = os.path.join(folder_path, filename+\".nii.gz\")\n",
    "        sitk_image = sitk.ReadImage(file_path)\n",
    "        np_image = sitk.GetArrayFromImage(sitk_image)\n",
    "        np_image = np_image[np.newaxis, :, :]\n",
    "        # NumPy 배열을 PyTorch Tensor로 변환하고 새 차원 추가\n",
    "        tensor = torch.from_numpy(np_image).unsqueeze(0) # 0번째 차원 추가\n",
    "        \n",
    "        # 0번째 차원을 기준으로 텐서 누적\n",
    "        tensors = torch.cat((tensors, tensor), dim=0) if tensors.size(0) else tensor\n",
    "    \n",
    "    return tensors"
   ]
  },
  {
   "cell_type": "code",
   "execution_count": null,
   "metadata": {},
   "outputs": [],
   "source": [
    "target_tensors = load_images_to_tensor(target_names, img_root)\n",
    "pre_tensors = load_images_to_tensor(pre_names, img_root)"
   ]
  },
  {
   "cell_type": "code",
   "execution_count": null,
   "metadata": {},
   "outputs": [],
   "source": [
    "target_tensors.shape, pre_tensors.shape"
   ]
  },
  {
   "cell_type": "code",
   "execution_count": null,
   "metadata": {},
   "outputs": [],
   "source": [
    "psnr = PeakSignalNoiseRatio()\n",
    "psnr(pre_tensors, target_tensors)"
   ]
  },
  {
   "cell_type": "code",
   "execution_count": null,
   "metadata": {},
   "outputs": [],
   "source": [
    "result_tensors = load_images_to_tensor(target_names, result_path)"
   ]
  },
  {
   "cell_type": "code",
   "execution_count": null,
   "metadata": {},
   "outputs": [],
   "source": [
    "psnr = PeakSignalNoiseRatio()\n",
    "psnr(result_tensors, target_tensors)"
   ]
  },
  {
   "attachments": {},
   "cell_type": "markdown",
   "metadata": {},
   "source": [
    "# SSIM"
   ]
  },
  {
   "cell_type": "code",
   "execution_count": null,
   "metadata": {},
   "outputs": [],
   "source": [
    "from torchmetrics.image import StructuralSimilarityIndexMeasure"
   ]
  },
  {
   "cell_type": "code",
   "execution_count": null,
   "metadata": {},
   "outputs": [],
   "source": [
    "def load_images_to_tensor(img_list, folder_path):\n",
    "    # 초기 텐서 선언 (빈 텐서 또는 예상되는 최종 텐서의 크기에 맞는 텐서)\n",
    "    tensors = torch.empty(0) # 여기서는 예제로 빈 텐서를 사용\n",
    "\n",
    "    for filename in tqdm(img_list):\n",
    "        file_path = os.path.join(folder_path, filename+\".nii.gz\")\n",
    "        sitk_image = sitk.ReadImage(file_path)\n",
    "        np_image = sitk.GetArrayFromImage(sitk_image)\n",
    "        np_image = np_image[np.newaxis, :, :]\n",
    "\n",
    "        # NumPy 배열을 PyTorch Tensor로 변환하고 새 차원 추가\n",
    "        tensor = torch.from_numpy(np_image).unsqueeze(0) # 0번째 차원 추가\n",
    "        \n",
    "        # 0번째 차원을 기준으로 텐서 누적\n",
    "        tensors = torch.cat((tensors, tensor), dim=0) if tensors.size(0) else tensor\n",
    "\n",
    "    return tensors"
   ]
  },
  {
   "cell_type": "code",
   "execution_count": null,
   "metadata": {},
   "outputs": [],
   "source": [
    "target_tensors = load_images_to_tensor(target_names, img_root)\n",
    "pre_tensors = load_images_to_tensor(pre_names, img_root)"
   ]
  },
  {
   "cell_type": "code",
   "execution_count": null,
   "metadata": {},
   "outputs": [],
   "source": [
    "target_tensors.shape, pre_tensors.shape"
   ]
  },
  {
   "cell_type": "code",
   "execution_count": null,
   "metadata": {},
   "outputs": [],
   "source": [
    "ssim = StructuralSimilarityIndexMeasure(data_range=1.0)\n",
    "ssim(pre_tensors, target_tensors)"
   ]
  },
  {
   "cell_type": "code",
   "execution_count": null,
   "metadata": {},
   "outputs": [],
   "source": [
    "result_tensors = load_images_to_tensor(target_names, result_path)"
   ]
  },
  {
   "cell_type": "code",
   "execution_count": null,
   "metadata": {},
   "outputs": [],
   "source": [
    "ssim = StructuralSimilarityIndexMeasure(data_range=1.0)\n",
    "ssim(result_tensors, target_tensors)"
   ]
  },
  {
   "cell_type": "markdown",
   "metadata": {},
   "source": [
    "# LPIPS"
   ]
  },
  {
   "cell_type": "code",
   "execution_count": null,
   "metadata": {},
   "outputs": [],
   "source": [
    "from torchmetrics.image.lpip import LearnedPerceptualImagePatchSimilarity"
   ]
  },
  {
   "cell_type": "code",
   "execution_count": null,
   "metadata": {},
   "outputs": [],
   "source": [
    "def load_images_to_tensor(img_list, folder_path):\n",
    "    # 초기 텐서 선언 (빈 텐서 또는 예상되는 최종 텐서의 크기에 맞는 텐서)\n",
    "    tensors = torch.empty(0) # 여기서는 예제로 빈 텐서를 사용\n",
    "\n",
    "    for filename in tqdm(img_list):\n",
    "        file_path = os.path.join(folder_path, filename+\".nii.gz\")\n",
    "        sitk_image = sitk.ReadImage(file_path)\n",
    "        np_image = sitk.GetArrayFromImage(sitk_image)\n",
    "        np_image = np_image[np.newaxis, :, :]\n",
    "        np_image = np.concatenate((np_image, np_image, np_image), axis=0)\n",
    "\n",
    "        # NumPy 배열을 PyTorch Tensor로 변환하고 새 차원 추가\n",
    "        tensor = torch.from_numpy(np_image).unsqueeze(0).float() # 0번째 차원 추가\n",
    "        \n",
    "        # 0번째 차원을 기준으로 텐서 누적\n",
    "        tensors = torch.cat((tensors, tensor), dim=0) if tensors.size(0) else tensor\n",
    "\n",
    "    return tensors"
   ]
  }
 ],
 "metadata": {
  "kernelspec": {
   "display_name": "Python 3",
   "language": "python",
   "name": "python3"
  },
  "language_info": {
   "codemirror_mode": {
    "name": "ipython",
    "version": 3
   },
   "file_extension": ".py",
   "mimetype": "text/x-python",
   "name": "python",
   "nbconvert_exporter": "python",
   "pygments_lexer": "ipython3",
   "version": "3.8.10"
  },
  "orig_nbformat": 4
 },
 "nbformat": 4,
 "nbformat_minor": 2
}
